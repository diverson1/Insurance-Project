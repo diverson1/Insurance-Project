{
 "cells": [
  {
   "cell_type": "markdown",
   "metadata": {},
   "source": [
    "# U.S. Medical Insurance Costs"
   ]
  },
  {
   "cell_type": "markdown",
   "metadata": {},
   "source": [
    "Objective: import csv of insurance data, and complete an analysis to determine if age or sex has a larger influence on cost of insurance, specifially looking at difference between those over vs under 40 years old, compared to differnce between male vs female. Will attempt to account for potential differnces in sample size."
   ]
  },
  {
   "cell_type": "code",
   "execution_count": 2,
   "metadata": {},
   "outputs": [
    {
     "name": "stdout",
     "output_type": "stream",
     "text": [
      "Average cost for individuals under 40 years of age is $10157.22\n",
      "Average cost for individuals equal to or over 40 years of age is $16430.51\n",
      "Average cost for individuals of male gender is $13956.75\n",
      "Average cost for individuals of female gender is $12569.58\n"
     ]
    }
   ],
   "source": [
    "# Importing CSV and seperating out what data I need and changing to a workable type\n",
    "import csv\n",
    "with open(r'C:\\Users\\diver\\Desktop\\Insurance Project\\insurance.csv') as insurance_csv:\n",
    "        insurance_data = csv.DictReader(insurance_csv)\n",
    "        under_40_costs = []\n",
    "        equal_or_over_40_costs = []\n",
    "        male_costs = []\n",
    "        female_costs = []\n",
    "        sample_size = 0\n",
    "        for row in insurance_data:\n",
    "            sample_size += 1\n",
    "            row['age'] = int(row['age'])\n",
    "            row['charges'] = float(row['charges'])\n",
    "            if row['age'] >= 40:\n",
    "                equal_or_over_40_costs.append(row['charges'])\n",
    "            else:\n",
    "                under_40_costs.append(row['charges'])\n",
    "            if row['sex'] == 'male':\n",
    "                male_costs.append(row['charges'])\n",
    "            else: \n",
    "                female_costs.append(row['charges'])\n",
    "#Getting the total cost and calculating the averages\n",
    "total_male_cost = 0\n",
    "for cost in male_costs:\n",
    "    total_male_cost += cost\n",
    "average_male_cost = total_male_cost/int(len(male_costs))\n",
    "total_female_cost = 0\n",
    "for cost in female_costs:\n",
    "    total_female_cost += cost\n",
    "average_female_cost = total_female_cost/int(len(female_costs))\n",
    "total_under_40_costs = 0\n",
    "for cost in under_40_costs:\n",
    "    total_under_40_costs += cost\n",
    "average_under_40_cost = total_under_40_costs/int(len(under_40_costs))\n",
    "total_equal_or_over_40_costs = 0\n",
    "for cost in equal_or_over_40_costs:\n",
    "    total_equal_or_over_40_costs += cost\n",
    "average_equal_or_over_40_cost = total_equal_or_over_40_costs/int(len(equal_or_over_40_costs))\n",
    "print('Average cost for individuals under 40 years of age is $' + str(round(average_under_40_cost, 2)))\n",
    "print('Average cost for individuals equal to or over 40 years of age is $' + str(round(average_equal_or_over_40_cost, 2)))\n",
    "print('Average cost for individuals of male gender is $' + str(round(average_male_cost, 2)))\n",
    "print('Average cost for individuals of female gender is $' + str(round(average_female_cost, 2)))\n",
    "\n"
   ]
  },
  {
   "cell_type": "markdown",
   "metadata": {},
   "source": [
    "Now that I have gathered together my data into a format that is easier to work with and have calculated the average cost for the attributes of intrest, I'll now begin to actually compare and test the data and look for any potential issues that could result from drawing any conclusion from the data."
   ]
  },
  {
   "cell_type": "code",
   "execution_count": 3,
   "metadata": {},
   "outputs": [
    {
     "name": "stdout",
     "output_type": "stream",
     "text": [
      "Females account for 49.0% of the sample size\n",
      "Males account for 51.0% of the sample size\n",
      "The average insurance cost for men is 11.0% higher than for women\n"
     ]
    }
   ],
   "source": [
    "#determining the portion of the sample size men and women both make up, as well as caluculating the percent differnce in the amount they pay\n",
    "number_of_females = print('Females account for '+ str(round(int(len(female_costs))/sample_size, 2)*100) + '% of the sample size' )\n",
    "number_of_males = print('Males account for '+ str(round(int(len(male_costs))/sample_size, 2)*100) + '% of the sample size' )\n",
    "if average_male_cost > average_female_cost:\n",
    "    print('The average insurance cost for men is ' + str(round(((average_male_cost - average_female_cost)/average_female_cost), 2)*100) + '% higher than for women')\n",
    "elif average_female_cost > average_male_cost:\n",
    "    print('The average insurance cost for women is ' + str(round(((average_female_cost - average_male_cost)/average_male_cost), 2)*100) + '% higher than for men')\n",
    "else:\n",
    "    print('Men and women pay the same amount on average for insurance')"
   ]
  },
  {
   "cell_type": "code",
   "execution_count": 4,
   "metadata": {},
   "outputs": [
    {
     "name": "stdout",
     "output_type": "stream",
     "text": [
      "Individuals under 40 years of age account for 50.0% of the sample size\n",
      "Individuals 40 years of age or older account for 50.0% of the sample size\n",
      "The average insurance cost for individuals equal to or over 40 years of age is 62.0% higher than for those under 40\n"
     ]
    }
   ],
   "source": [
    "#determining the portion of the sample size both age groups make up, as well as caluculating the percent differnce in the amount they pay\n",
    "number_of_under_40 = print('Individuals under 40 years of age account for '+ str(round(int(len(under_40_costs))/sample_size, 2)*100) + '% of the sample size' )\n",
    "number_of_equal_or_over_40 = print('Individuals 40 years of age or older account for '+ str(round(int(len(equal_or_over_40_costs))/sample_size, 2)*100) + '% of the sample size' )\n",
    "if average_under_40_cost > average_equal_or_over_40_cost:\n",
    "    print('The average insurance cost for individuals under 40 years of age is ' + str(round(((average_under_40_cost - average_equal_or_over_40_cost)/average_equal_or_over_40_cost), 2)) + '% higher than for those equal to or over 40')\n",
    "elif average_equal_or_over_40_cost > average_under_40_cost:\n",
    "    print('The average insurance cost for individuals equal to or over 40 years of age is ' + str(round(((average_equal_or_over_40_cost - average_under_40_cost)/average_under_40_cost), 2)*100) + '% higher than for those under 40')\n",
    "else:\n",
    "    print('Individuals of both age groups pay the same amount on average for insurance')"
   ]
  },
  {
   "cell_type": "markdown",
   "metadata": {},
   "source": [
    "Conclusion: Age has a significantly higher affect on insurance cost than gender. There was no sample size issues that would call into question the validity of the results\n"
   ]
  }
 ],
 "metadata": {
  "kernelspec": {
   "display_name": "Python 3",
   "language": "python",
   "name": "python3"
  },
  "language_info": {
   "codemirror_mode": {
    "name": "ipython",
    "version": 3
   },
   "file_extension": ".py",
   "mimetype": "text/x-python",
   "name": "python",
   "nbconvert_exporter": "python",
   "pygments_lexer": "ipython3",
   "version": "3.9.7"
  }
 },
 "nbformat": 4,
 "nbformat_minor": 4
}
