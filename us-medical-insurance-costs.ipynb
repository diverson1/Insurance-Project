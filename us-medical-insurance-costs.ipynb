{
 "cells": [
  {
   "cell_type": "markdown",
   "metadata": {},
   "source": [
    "# U.S. Medical Insurance Costs"
   ]
  },
  {
   "cell_type": "markdown",
   "metadata": {},
   "source": [
    "Objective: import csv of insurance data, and complete an analysis to determine if age or sex has a larger influence on cost of insurance, specifially looking at difference between those over vs under 40 years old, compared to differnce between male vs female. Will attempt to account for potential differnces in sample size."
   ]
  },
  {
   "cell_type": "code",
   "execution_count": 1,
   "metadata": {},
   "outputs": [
    {
     "name": "stdout",
     "output_type": "stream",
     "text": [
      "      age     sex     bmi  children smoker     region      charges\n",
      "0      19  female  27.900         0    yes  southwest  16884.92400\n",
      "1      18    male  33.770         1     no  southeast   1725.55230\n",
      "2      28    male  33.000         3     no  southeast   4449.46200\n",
      "3      33    male  22.705         0     no  northwest  21984.47061\n",
      "4      32    male  28.880         0     no  northwest   3866.85520\n",
      "...   ...     ...     ...       ...    ...        ...          ...\n",
      "1333   50    male  30.970         3     no  northwest  10600.54830\n",
      "1334   18  female  31.920         0     no  northeast   2205.98080\n",
      "1335   18  female  36.850         0     no  southeast   1629.83350\n",
      "1336   21  female  25.800         0     no  southwest   2007.94500\n",
      "1337   61  female  29.070         0    yes  northwest  29141.36030\n",
      "\n",
      "[1338 rows x 7 columns]\n"
     ]
    }
   ],
   "source": [
    "# Importing CSV and seperating out what data I need\n",
    "import pandas as pd\n",
    "df= pd.read_csv('https://raw.githubusercontent.com/diverson1/Medical-Insurance-Project/master/insurance.csv')\n",
    "print(df)\n"
   ]
  },
  {
   "cell_type": "code",
   "execution_count": 2,
   "metadata": {},
   "outputs": [
    {
     "name": "stdout",
     "output_type": "stream",
     "text": [
      "Average cost for individuals under 40 years of age is $10157.22\n",
      "Average cost for individuals equal to or over 40 years of age is $16430.51\n",
      "Average cost for individuals of male gender is $13956.75\n",
      "Average cost for individuals of female gender is $12569.58\n"
     ]
    }
   ],
   "source": [
    "\n",
    "under_40_cost = 0\n",
    "under_40_count = 0\n",
    "equal_or_over_40_cost = 0\n",
    "equal_or_over_40_count = 0\n",
    "male_cost = 0\n",
    "male_count = 0\n",
    "female_cost = 0\n",
    "female_count = 0\n",
    "sample_size = 1338\n",
    "\n",
    "#Getting the total cost and calculating the averages\n",
    "for i in range(1338):\n",
    "    if df.sex[i] == 'male':\n",
    "        male_cost += df.charges[i]\n",
    "        male_count += 1\n",
    "    else:\n",
    "        female_cost += df.charges[i]\n",
    "        female_count += 1\n",
    "\n",
    "for i in range(1338):\n",
    "    if df.age[i] < 40 :\n",
    "        under_40_cost += df.charges[i]\n",
    "        under_40_count += 1\n",
    "    else:\n",
    "        equal_or_over_40_cost += df.charges[i]\n",
    "        equal_or_over_40_count += 1\n",
    "\n",
    "average_equal_or_over_40_cost = equal_or_over_40_cost / equal_or_over_40_count\n",
    "average_under_40_cost = under_40_cost / under_40_count\n",
    "average_female_cost = female_cost / female_count\n",
    "average_male_cost = male_cost / male_count\n",
    "    \n",
    "#Getting the total cost and calculating the averages\n",
    "\n",
    "print('Average cost for individuals under 40 years of age is $' + str(round(average_under_40_cost, 2)))\n",
    "print('Average cost for individuals equal to or over 40 years of age is $' + str(round(average_equal_or_over_40_cost, 2)))\n",
    "print('Average cost for individuals of male gender is $' + str(round(average_male_cost, 2)))\n",
    "print('Average cost for individuals of female gender is $' + str(round(average_female_cost, 2)))\n",
    "\n"
   ]
  },
  {
   "cell_type": "markdown",
   "metadata": {},
   "source": [
    "Now that I have gathered together my data into a format that is easier to work with and have calculated the average cost for the attributes of intrest, I'll now begin to actually compare and test the data and look for any potential issues that could result from drawing any conclusion from the data."
   ]
  },
  {
   "cell_type": "code",
   "execution_count": 3,
   "metadata": {},
   "outputs": [
    {
     "name": "stdout",
     "output_type": "stream",
     "text": [
      "Females account for 49.0% of the sample size\n",
      "Males account for 51.0% of the sample size\n",
      "The average insurance cost for men is 11.0% higher than for women\n"
     ]
    }
   ],
   "source": [
    "#determining the portion of the sample size men and women both make up, as well as caluculating the percent differnce in the amount they pay\n",
    "number_of_females = print('Females account for '+ str(round(female_count/sample_size, 2)*100) + '% of the sample size' )\n",
    "number_of_males = print('Males account for '+ str(round(male_count/sample_size, 2)*100) + '% of the sample size' )\n",
    "if average_male_cost > average_female_cost:\n",
    "    print('The average insurance cost for men is ' + str(round(((average_male_cost - average_female_cost)/average_female_cost), 2)*100) + '% higher than for women')\n",
    "elif average_female_cost > average_male_cost:\n",
    "    print('The average insurance cost for women is ' + str(round(((average_female_cost - average_male_cost)/average_male_cost), 2)*100) + '% higher than for men')\n",
    "else:\n",
    "    print('Men and women pay the same amount on average for insurance')"
   ]
  },
  {
   "cell_type": "code",
   "execution_count": 4,
   "metadata": {},
   "outputs": [
    {
     "name": "stdout",
     "output_type": "stream",
     "text": [
      "Individuals under 40 years of age account for 50.0% of the sample size\n",
      "Individuals 40 years of age or older account for 50.0% of the sample size\n",
      "The average insurance cost for individuals equal to or over 40 years of age is 62.0% higher than for those under 40\n"
     ]
    }
   ],
   "source": [
    "#determining the portion of the sample size both age groups make up, as well as caluculating the percent differnce in the amount they pay\n",
    "number_of_under_40 = print('Individuals under 40 years of age account for '+ str(round(under_40_count/sample_size, 2)*100) + '% of the sample size' )\n",
    "number_of_equal_or_over_40 = print('Individuals 40 years of age or older account for '+ str(round(equal_or_over_40_count/sample_size, 2)*100) + '% of the sample size' )\n",
    "if average_under_40_cost > average_equal_or_over_40_cost:\n",
    "    print('The average insurance cost for individuals under 40 years of age is ' + str(round(((average_under_40_cost - average_equal_or_over_40_cost)/average_equal_or_over_40_cost), 2)) + '% higher than for those equal to or over 40')\n",
    "elif average_equal_or_over_40_cost > average_under_40_cost:\n",
    "    print('The average insurance cost for individuals equal to or over 40 years of age is ' + str(round(((average_equal_or_over_40_cost - average_under_40_cost)/average_under_40_cost), 2)*100) + '% higher than for those under 40')\n",
    "else:\n",
    "    print('Individuals of both age groups pay the same amount on average for insurance')"
   ]
  },
  {
   "cell_type": "markdown",
   "metadata": {},
   "source": [
    "Conclusion: Age has a significantly higher affect on insurance cost than gender. There was no sample size issues that would call into question the validity of the results\n"
   ]
  }
 ],
 "metadata": {
  "kernelspec": {
   "display_name": "Python 3",
   "language": "python",
   "name": "python3"
  },
  "language_info": {
   "codemirror_mode": {
    "name": "ipython",
    "version": 3
   },
   "file_extension": ".py",
   "mimetype": "text/x-python",
   "name": "python",
   "nbconvert_exporter": "python",
   "pygments_lexer": "ipython3",
   "version": "3.9.7"
  }
 },
 "nbformat": 4,
 "nbformat_minor": 4
}
