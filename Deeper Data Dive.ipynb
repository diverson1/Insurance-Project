{
 "cells": [
  {
   "cell_type": "markdown",
   "metadata": {},
   "source": [
    "In this file I plan to do a deeper dive into the data and findings from my original age vs gender study. Going to look at different factors and how they may have influenced cost. Starting off by taking a look at why men maybe be paying more on average than women."
   ]
  },
  {
   "cell_type": "code",
   "execution_count": 59,
   "metadata": {},
   "outputs": [
    {
     "name": "stdout",
     "output_type": "stream",
     "text": [
      "   age     sex     bmi  children smoker     region      charges\n",
      "0   19  female  27.900         0    yes  southwest  16884.92400\n",
      "1   18    male  33.770         1     no  southeast   1725.55230\n",
      "2   28    male  33.000         3     no  southeast   4449.46200\n",
      "3   33    male  22.705         0     no  northwest  21984.47061\n",
      "4   32    male  28.880         0     no  northwest   3866.85520\n"
     ]
    }
   ],
   "source": [
    "# Importing CSV\n",
    "import pandas as pd\n",
    "import matplotlib.pyplot as plt \n",
    "import seaborn as sns\n",
    "df= pd.read_csv('https://raw.githubusercontent.com/diverson1/Medical-Insurance-Project/master/insurance.csv')\n",
    "print(df.head())"
   ]
  },
  {
   "cell_type": "code",
   "execution_count": 60,
   "metadata": {},
   "outputs": [
    {
     "data": {
      "image/png": "[encoded data removed]",
      "text/plain": [
       "<Figure size 432x288 with 1 Axes>"
      ]
     },
     "metadata": {},
     "output_type": "display_data"
    },
    {
     "data": {
      "image/png": "[encoded data removed]",
      "text/plain": [
       "<Figure size 432x288 with 1 Axes>"
      ]
     },
     "metadata": {},
     "output_type": "display_data"
    }
   ],
   "source": [
    "#seperating the data into male vs female data sets\n",
    "male_data = df[df.sex == 'male'].reset_index()\n",
    "female_data = df[df.sex == 'female'].reset_index()\n",
    "\n",
    "# Looking to see if theres any obvious trends visually noticeable\n",
    "sns.set_style('white')\n",
    "sns.histplot(x='charges', data=male_data).set(title='Male Costs')\n",
    "plt.show()\n",
    "plt.close()\n",
    "sns.histplot(x='charges', data=female_data).set(title='Female Costs')\n",
    "plt.show()\n",
    "plt.close()"
   ]
  },
  {
   "cell_type": "markdown",
   "metadata": {},
   "source": [
    "After my original look at the data I realized smoking tends to have a much larger affect on cost of insurance than any other aspect. As a result I wanted to see if the increased cost for men was due to a larger percentage of them being smokers."
   ]
  },
  {
   "cell_type": "code",
   "execution_count": 61,
   "metadata": {},
   "outputs": [
    {
     "name": "stdout",
     "output_type": "stream",
     "text": [
      "no     0.764793\n",
      "yes    0.235207\n",
      "Name: smoker, dtype: float64\n",
      "no     0.826284\n",
      "yes    0.173716\n",
      "Name: smoker, dtype: float64\n"
     ]
    }
   ],
   "source": [
    "print(male_data.smoker.value_counts(normalize=True))\n",
    "print(female_data.smoker.value_counts(normalize=True))\n"
   ]
  },
  {
   "cell_type": "markdown",
   "metadata": {},
   "source": [
    "Roughly 6 percent more of the male population are smokers, this could potentialy account for the differnce in cost but I want to take a look at more factors before feeling confident in this finding."
   ]
  },
  {
   "cell_type": "code",
   "execution_count": 62,
   "metadata": {},
   "outputs": [
    {
     "name": "stdout",
     "output_type": "stream",
     "text": [
      "38.917159763313606\n",
      "39.0\n",
      "39.503021148036254\n",
      "40.0\n"
     ]
    }
   ],
   "source": [
    "#Checking to see if there is any variablity in the age spread of the sample size between genders\n",
    "print(male_data.age.mean())\n",
    "print(male_data.age.median())\n",
    "print(female_data.age.mean())\n",
    "print(female_data.age.median())"
   ]
  },
  {
   "cell_type": "code",
   "execution_count": 63,
   "metadata": {},
   "outputs": [
    {
     "name": "stdout",
     "output_type": "stream",
     "text": [
      "1.1153846153846154\n",
      "1.0\n",
      "1.0740181268882176\n",
      "1.0\n"
     ]
    }
   ],
   "source": [
    "#checking how number of children varies between groups\n",
    "print(male_data.children.mean())\n",
    "print(male_data.children.median())\n",
    "print(female_data.children.mean())\n",
    "print(female_data.children.median())"
   ]
  },
  {
   "cell_type": "code",
   "execution_count": 64,
   "metadata": {},
   "outputs": [
    {
     "name": "stdout",
     "output_type": "stream",
     "text": [
      "30.943128698224832\n",
      "30.6875\n",
      "30.377749244713023\n",
      "30.1075\n"
     ]
    }
   ],
   "source": [
    "#checking how bmi varies between groups\n",
    "print(male_data.bmi.mean())\n",
    "print(male_data.bmi.median())\n",
    "print(female_data.bmi.mean())\n",
    "print(female_data.bmi.median())"
   ]
  },
  {
   "cell_type": "code",
   "execution_count": 65,
   "metadata": {},
   "outputs": [
    {
     "name": "stdout",
     "output_type": "stream",
     "text": [
      "southeast    0.279586\n",
      "northeast    0.241124\n",
      "southwest    0.241124\n",
      "northwest    0.238166\n",
      "Name: region, dtype: float64\n",
      "southeast    0.264350\n",
      "northwest    0.247734\n",
      "southwest    0.244713\n",
      "northeast    0.243202\n",
      "Name: region, dtype: float64\n"
     ]
    }
   ],
   "source": [
    "#checking how number of children varies between groups\n",
    "print(male_data.region.value_counts(normalize=True))\n",
    "print(female_data.region.value_counts(normalize=True))"
   ]
  },
  {
   "cell_type": "markdown",
   "metadata": {},
   "source": [
    "Conclusion:\n",
    "After looking at many influencing factors we have determined that the differnece between male and female cost is most likely linked to the increased percentage of males that smoke when compared to females. If we wanted to try to decrease the average cost for male insurance this is the variable we would want to focus on."
   ]
  }
 ],
 "metadata": {
  "kernelspec": {
   "display_name": "Python 3.9.7 ('base')",
   "language": "python",
   "name": "python3"
  },
  "language_info": {
   "codemirror_mode": {
    "name": "ipython",
    "version": 3
   },
   "file_extension": ".py",
   "mimetype": "text/x-python",
   "name": "python",
   "nbconvert_exporter": "python",
   "pygments_lexer": "ipython3",
   "version": "3.9.7"
  },
  "orig_nbformat": 4,
  "vscode": {
   "interpreter": {
    "hash": "796b6fc90511c154553ef99292555e44382ff202c107a231a906b48d526f346a"
   }
  }
 },
 "nbformat": 4,
 "nbformat_minor": 2
}
